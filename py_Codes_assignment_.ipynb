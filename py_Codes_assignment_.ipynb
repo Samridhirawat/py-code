{
  "nbformat": 4,
  "nbformat_minor": 0,
  "metadata": {
    "colab": {
      "provenance": [],
      "include_colab_link": true
    },
    "kernelspec": {
      "name": "python3",
      "display_name": "Python 3"
    },
    "language_info": {
      "name": "python"
    }
  },
  "cells": [
    {
      "cell_type": "markdown",
      "metadata": {
        "id": "view-in-github",
        "colab_type": "text"
      },
      "source": [
        "<a href=\"https://colab.research.google.com/github/Samridhirawat/py-code/blob/main/py_Codes_assignment_.ipynb\" target=\"_parent\"><img src=\"https://colab.research.google.com/assets/colab-badge.svg\" alt=\"Open In Colab\"/></a>"
      ]
    },
    {
      "cell_type": "markdown",
      "source": [
        "## **Python Assignment**\n",
        "---------------------------------------------------------------------------\n",
        "Q1. L is a list defined as L= [11, 12, 13, 14]."
      ],
      "metadata": {
        "id": "cKWjkyqG5E4u"
      }
    },
    {
      "cell_type": "code",
      "source": [
        "#(i)WAP to add 50 and 60 to L.\n",
        "L=[11,12,13]\n",
        "L.append(50)\n",
        "L.append(60)\n",
        "print(L)"
      ],
      "metadata": {
        "colab": {
          "base_uri": "https://localhost:8080/"
        },
        "id": "o0Fz4lzU5JMN",
        "outputId": "af8893e5-b6a6-4c9e-bb98-8432ec2de2be"
      },
      "execution_count": 52,
      "outputs": [
        {
          "output_type": "stream",
          "name": "stdout",
          "text": [
            "[11, 12, 13, 50, 60]\n"
          ]
        }
      ]
    },
    {
      "cell_type": "code",
      "source": [
        "#(ii)WAP to remove 11 and 13from L.\n",
        "L=[11, 12, 13, 50, 60]\n",
        "L.remove(12)\n",
        "print(L)"
      ],
      "metadata": {
        "colab": {
          "base_uri": "https://localhost:8080/"
        },
        "id": "46IQhOLSlCW8",
        "outputId": "a4f8f7ef-8ae8-41c8-f4de-abbe49096d9e"
      },
      "execution_count": 13,
      "outputs": [
        {
          "output_type": "stream",
          "name": "stdout",
          "text": [
            "[11, 13, 50, 60]\n"
          ]
        }
      ]
    },
    {
      "cell_type": "code",
      "source": [
        "#(iii)WAP to sort L in ascending order.\n",
        "L=[11, 12, 13, 50, 60]\n",
        "L.sort()\n",
        "print(L)"
      ],
      "metadata": {
        "colab": {
          "base_uri": "https://localhost:8080/"
        },
        "id": "CZ1cIBwyn3ec",
        "outputId": "e7941540-993e-4120-c121-405a7a82861f"
      },
      "execution_count": 14,
      "outputs": [
        {
          "output_type": "stream",
          "name": "stdout",
          "text": [
            "[11, 12, 13, 50, 60]\n"
          ]
        }
      ]
    },
    {
      "cell_type": "code",
      "source": [
        "#(iv)WAP to sort L in descending order.\n",
        "L=[11, 12, 13, 50, 60]\n",
        "L.sort(reverse=True)\n",
        "print(L)"
      ],
      "metadata": {
        "colab": {
          "base_uri": "https://localhost:8080/"
        },
        "id": "tBxXiNGtoOU3",
        "outputId": "e99715fd-7d88-4eb0-b2fa-fa7dbb9e46d5"
      },
      "execution_count": 15,
      "outputs": [
        {
          "output_type": "stream",
          "name": "stdout",
          "text": [
            "[60, 50, 13, 12, 11]\n"
          ]
        }
      ]
    },
    {
      "cell_type": "code",
      "source": [
        "#(v)WAP to search for 13 in L.\n",
        "L=[11, 12, 13, 50, 60]\n",
        "print(13 in L)"
      ],
      "metadata": {
        "colab": {
          "base_uri": "https://localhost:8080/"
        },
        "id": "a7WjTiglokgV",
        "outputId": "701b1330-bcf0-4059-f3df-befaedaf0166"
      },
      "execution_count": 16,
      "outputs": [
        {
          "output_type": "stream",
          "name": "stdout",
          "text": [
            "True\n"
          ]
        }
      ]
    },
    {
      "cell_type": "code",
      "source": [
        "#(vi)WAP to count the number of elements present in L.\n",
        "L=[11, 12, 13, 50, 60]\n",
        "print(len(L))"
      ],
      "metadata": {
        "colab": {
          "base_uri": "https://localhost:8080/"
        },
        "id": "MTp_bi9jo9AB",
        "outputId": "216b6134-5dd3-437a-de89-a991d04be308"
      },
      "execution_count": 17,
      "outputs": [
        {
          "output_type": "stream",
          "name": "stdout",
          "text": [
            "5\n"
          ]
        }
      ]
    },
    {
      "cell_type": "code",
      "source": [
        "#(vii)WAP to sum all the elements in L.\n",
        "L=[11, 12, 13, 50, 60]\n",
        "sum=0\n",
        "for i in L:\n",
        "  sum+=i\n",
        "print(sum)"
      ],
      "metadata": {
        "colab": {
          "base_uri": "https://localhost:8080/"
        },
        "id": "v7LqEEQTpR8y",
        "outputId": "e66dc4eb-9a5c-4f23-d036-aa318ba62c41"
      },
      "execution_count": 18,
      "outputs": [
        {
          "output_type": "stream",
          "name": "stdout",
          "text": [
            "146\n"
          ]
        }
      ]
    },
    {
      "cell_type": "code",
      "source": [
        "#(viii)WAP to sum all ODD numbers in L.\n",
        "L=[11, 12, 13, 50, 60]\n",
        "sum=0\n",
        "for i in L:\n",
        "  if i%2 != 0:\n",
        "    sum+=i\n",
        "  else:\n",
        "    continue\n",
        "print(sum)"
      ],
      "metadata": {
        "colab": {
          "base_uri": "https://localhost:8080/"
        },
        "id": "L1238x3Cp5cg",
        "outputId": "f5cbf751-824f-417d-d68f-01d674998e6a"
      },
      "execution_count": 19,
      "outputs": [
        {
          "output_type": "stream",
          "name": "stdout",
          "text": [
            "24\n"
          ]
        }
      ]
    },
    {
      "cell_type": "code",
      "source": [
        "#(ix)WAP to sum all EVEN numbers in L.\n",
        "L=[11, 12, 13, 50, 60]\n",
        "sum=0\n",
        "for i in L:\n",
        "  if i%2 == 0:\n",
        "    sum+=i\n",
        "  else:\n",
        "    continue\n",
        "print(sum)"
      ],
      "metadata": {
        "colab": {
          "base_uri": "https://localhost:8080/"
        },
        "id": "IHKNn4ilrHWM",
        "outputId": "8234ab9e-ebd1-46db-90e2-909c69f45e1b"
      },
      "execution_count": 20,
      "outputs": [
        {
          "output_type": "stream",
          "name": "stdout",
          "text": [
            "122\n"
          ]
        }
      ]
    },
    {
      "cell_type": "code",
      "source": [
        "#(x) WAP to sum all PRIME numbers in L.\n",
        "L = [11, 12, 13, 50, 60]\n",
        "prime_sum = 0\n",
        "\n",
        "for num in L:\n",
        "    if num > 1:\n",
        "        is_prime = True\n",
        "        for i in range(2, num // 2 + 1):\n",
        "            if num % i == 0:\n",
        "                is_prime = False\n",
        "                break\n",
        "        if is_prime:\n",
        "            prime_sum += num\n",
        "\n",
        "print(prime_sum)"
      ],
      "metadata": {
        "colab": {
          "base_uri": "https://localhost:8080/"
        },
        "id": "rFGrD41C8SuE",
        "outputId": "5581f781-64b5-4cbb-bc9e-a37d0e759c5d"
      },
      "execution_count": 22,
      "outputs": [
        {
          "output_type": "stream",
          "name": "stdout",
          "text": [
            "24\n"
          ]
        }
      ]
    },
    {
      "cell_type": "code",
      "source": [
        "#(xii) WAP to clear all the elements in L.\n",
        "L=[11, 12, 13, 50, 60]\n",
        "L.clear()\n",
        "print(L)"
      ],
      "metadata": {
        "colab": {
          "base_uri": "https://localhost:8080/"
        },
        "id": "rbOa9UbtveTN",
        "outputId": "8f08e6da-0e4c-4415-ca28-d6c3ff7981a3"
      },
      "execution_count": 53,
      "outputs": [
        {
          "output_type": "stream",
          "name": "stdout",
          "text": [
            "[]\n"
          ]
        }
      ]
    },
    {
      "cell_type": "markdown",
      "source": [
        "# **Data Structure-Dictionary**\n",
        "Q2. D is a dictionary defined as D= {1:5.6, 2:7.8, 3:6.6, 4:8.7, 5:7.7}."
      ],
      "metadata": {
        "id": "FgSTdWJB66MQ"
      }
    },
    {
      "cell_type": "code",
      "source": [
        "#(i) WAP to add new entry in D; key=8 and value is 8.8\n",
        "D= {1:5.6, 2:7.8, 3:6.6, 4:8.7, 5:7.7}\n",
        "D[8]=8.8\n",
        "print(D)"
      ],
      "metadata": {
        "id": "sAtL64VC7C4O"
      },
      "execution_count": 25,
      "outputs": []
    },
    {
      "cell_type": "code",
      "source": [
        "#(ii) WAP to remove key=2.\n",
        "D= {1:5.6, 2:7.8, 3:6.6, 4:8.7, 5:7.7}\n",
        "del D[2]\n",
        "print(D)"
      ],
      "metadata": {
        "colab": {
          "base_uri": "https://localhost:8080/"
        },
        "id": "d3BRhQxQ7t-_",
        "outputId": "16eeff7d-5bf4-4ac2-e747-3f5d568bfb89"
      },
      "execution_count": 27,
      "outputs": [
        {
          "output_type": "stream",
          "name": "stdout",
          "text": [
            "{1: 5.6, 3: 6.6, 4: 8.7, 5: 7.7}\n"
          ]
        }
      ]
    },
    {
      "cell_type": "code",
      "source": [
        "#(iii) WAP to check whether 6 key is present in D.\n",
        "D= {1:5.6, 2:7.8, 3:6.6, 4:8.7, 5:7.7}\n",
        "print(6 in D)"
      ],
      "metadata": {
        "colab": {
          "base_uri": "https://localhost:8080/"
        },
        "id": "GuBuBJiD8TyF",
        "outputId": "739b5e03-bfb0-46ae-ef51-33ce76e7c3b7"
      },
      "execution_count": 28,
      "outputs": [
        {
          "output_type": "stream",
          "name": "stdout",
          "text": [
            "False\n"
          ]
        }
      ]
    },
    {
      "cell_type": "code",
      "source": [
        "#(iv) WAP to count the number of elements present in D.\n",
        "D= {1:5.6, 2:7.8, 3:6.6, 4:8.7, 5:7.7}\n",
        "len(D)"
      ],
      "metadata": {
        "colab": {
          "base_uri": "https://localhost:8080/"
        },
        "id": "jT2ZTnTmUh1E",
        "outputId": "bd15d906-c61b-402a-d7b5-fbd509c64d02"
      },
      "execution_count": 29,
      "outputs": [
        {
          "output_type": "execute_result",
          "data": {
            "text/plain": [
              "5"
            ]
          },
          "metadata": {},
          "execution_count": 29
        }
      ]
    },
    {
      "cell_type": "code",
      "source": [
        "#(vi) WAP to update the value of 3 to 7.1.\n",
        "D= {1:5.6, 2:7.8, 3:6.6, 4:8.7, 5:7.7}\n",
        "D[3]=7.1\n",
        "print(D)"
      ],
      "metadata": {
        "colab": {
          "base_uri": "https://localhost:8080/"
        },
        "id": "jXLPMJqoj2bW",
        "outputId": "8857bbab-3115-4811-b8f7-5c79802bf9d4"
      },
      "execution_count": 32,
      "outputs": [
        {
          "output_type": "stream",
          "name": "stdout",
          "text": [
            "{1: 5.6, 2: 7.8, 3: 7.1, 4: 8.7, 5: 7.7}\n"
          ]
        }
      ]
    },
    {
      "cell_type": "code",
      "source": [
        "#(vii) WAP to clear the dictionary.\n",
        "D= {1:5.6, 2:7.8, 3:6.6, 4:8.7, 5:7.7}\n",
        "D.clear()\n",
        "print (\"After Clear --> \",D)"
      ],
      "metadata": {
        "colab": {
          "base_uri": "https://localhost:8080/"
        },
        "id": "FXVk_WzokaKv",
        "outputId": "feeb965f-0e08-47b6-eb1d-f44ccc108693"
      },
      "execution_count": 33,
      "outputs": [
        {
          "output_type": "stream",
          "name": "stdout",
          "text": [
            "After Clear -->  {}\n"
          ]
        }
      ]
    },
    {
      "cell_type": "markdown",
      "source": [
        "# **Data Structure - Set**\n",
        "\n",
        "*   Q3. S1 is a set defined as S1= [10, 20, 30, 40, 50, 60].\n",
        "*   S2 is a set defined as S2= [40, 50, 60, 70, 80, 90].\n",
        "\n",
        "\n"
      ],
      "metadata": {
        "id": "CqZx_S04k4S-"
      }
    },
    {
      "cell_type": "code",
      "source": [
        "#(i) WAP to add 55 and 66 in Set S1.\n",
        "S1 = set([\"10\", \"20\", \"30\", \"40\", \"50\", \"60\"])\n",
        "S1.add(55)\n",
        "S1.add(66)\n",
        "print (\"Set After Adding (55 & 66) --> \", S1)"
      ],
      "metadata": {
        "colab": {
          "base_uri": "https://localhost:8080/"
        },
        "id": "97RD8qVZlf0h",
        "outputId": "bf6c9d3c-5eac-4834-b109-de7f23ad12c5"
      },
      "execution_count": 34,
      "outputs": [
        {
          "output_type": "stream",
          "name": "stdout",
          "text": [
            "Set After Adding (55 & 66) -->  {66, '20', '40', '30', '10', 55, '50', '60'}\n"
          ]
        }
      ]
    },
    {
      "cell_type": "code",
      "source": [
        "#(ii) WAP to remove 10 and 30 from Set S1.\n",
        "S1 = set(['10', '20', 30, '40', '50', '60'])\n",
        "S1.remove('10')\n",
        "S1.remove(30)\n",
        "print (\"Set After removing (10 & 30) --> \", S1)"
      ],
      "metadata": {
        "colab": {
          "base_uri": "https://localhost:8080/"
        },
        "id": "uJHUlbFImm2F",
        "outputId": "e3c6df7d-73bb-4cad-95bd-4cf47d008cbc"
      },
      "execution_count": 35,
      "outputs": [
        {
          "output_type": "stream",
          "name": "stdout",
          "text": [
            "Set After removing (10 & 30) -->  {'20', '40', '50', '60'}\n"
          ]
        }
      ]
    },
    {
      "cell_type": "code",
      "source": [
        "#(iii) WAP to check whether 40 is present in S1.\n",
        "S1 = set([10, 20, 30, 40, 50, 60])\n",
        "print(40 in S1)"
      ],
      "metadata": {
        "colab": {
          "base_uri": "https://localhost:8080/"
        },
        "id": "2rF1BA72nGSi",
        "outputId": "2a65527b-7505-453b-9bae-9d23d4a66d86"
      },
      "execution_count": 36,
      "outputs": [
        {
          "output_type": "stream",
          "name": "stdout",
          "text": [
            "True\n"
          ]
        }
      ]
    },
    {
      "cell_type": "code",
      "source": [
        "#(iv) WAP to find the union between S1 and S2.\n",
        "S1 = set([\"10\", \"20\", \"30\", \"40\", \"50\", \"60\"])\n",
        "S2 = set([\"40\", '50', '60', '70', '80', \"90\"])\n",
        "print (\"Original set S1      --> \", S1)\n",
        "print (\"Original set S2      --> \", S2)\n",
        "print (\"Union of S1 and S2    --> \", S1.union(S2))"
      ],
      "metadata": {
        "colab": {
          "base_uri": "https://localhost:8080/"
        },
        "id": "HEk5ecUWoZ4f",
        "outputId": "4f13acf2-58ad-4b93-a3a4-676a855db422"
      },
      "execution_count": 37,
      "outputs": [
        {
          "output_type": "stream",
          "name": "stdout",
          "text": [
            "Original set S1      -->  {'20', '40', '30', '10', '50', '60'}\n",
            "Original set S2      -->  {'70', '40', '90', '80', '50', '60'}\n",
            "Union of S1 and S2    -->  {'70', '20', '40', '90', '80', '30', '10', '50', '60'}\n"
          ]
        }
      ]
    },
    {
      "cell_type": "code",
      "source": [
        "#(v) WAP to find the intersection between S1 and S2.\n",
        "S1 = set([\"10\", \"20\", \"30\", \"40\", \"50\", \"60\"])\n",
        "S2 = set([\"40\", '50', '60', '70', '80', \"90\"])\n",
        "print (\"Original set S1      --> \", S1)\n",
        "print (\"Original set S2      --> \", S2)\n",
        "print (\"Union of S1 and S2    --> \", S1.intersection(S2))\n",
        "print (\"Union of S1 and S2    --> \", S2.intersection(S1))"
      ],
      "metadata": {
        "colab": {
          "base_uri": "https://localhost:8080/"
        },
        "id": "c1_o3ZtzpOI6",
        "outputId": "1f349b9e-06f7-4ef4-c6ec-f76ce010a3db"
      },
      "execution_count": 38,
      "outputs": [
        {
          "output_type": "stream",
          "name": "stdout",
          "text": [
            "Original set S1      -->  {'20', '40', '30', '10', '50', '60'}\n",
            "Original set S2      -->  {'70', '40', '90', '80', '50', '60'}\n",
            "Union of S1 and S2    -->  {'50', '60', '40'}\n",
            "Union of S1 and S2    -->  {'50', '60', '40'}\n"
          ]
        }
      ]
    },
    {
      "cell_type": "code",
      "source": [
        "#(vi) WAP to find the S1 - S2.\n",
        "S1 = set([\"10\", \"20\", \"30\", \"40\", \"50\", \"60\"])\n",
        "S2 = set([\"40\", '50', '60', '70', '80', \"90\"])\n",
        "print (\"Original set S1      --> \", S1)\n",
        "print (\"Original set S2      --> \", S2)\n",
        "print (\"S1 - S2   --> \", S1-S2 )"
      ],
      "metadata": {
        "colab": {
          "base_uri": "https://localhost:8080/"
        },
        "id": "Pzjse7prpsNf",
        "outputId": "e22e0ecf-12ea-4303-d493-92af1234a76a"
      },
      "execution_count": 39,
      "outputs": [
        {
          "output_type": "stream",
          "name": "stdout",
          "text": [
            "Original set S1      -->  {'20', '40', '30', '10', '50', '60'}\n",
            "Original set S2      -->  {'70', '40', '90', '80', '50', '60'}\n",
            "S1 - S2   -->  {'20', '30', '10'}\n"
          ]
        }
      ]
    },
    {
      "cell_type": "markdown",
      "source": [
        "# **Additional**\n",
        "Q4. Write the following program.\n",
        "* (i) WAP to print 100 random strings whose length between 6 and 8."
      ],
      "metadata": {
        "id": "zu4G2E9MvgBH"
      }
    },
    {
      "cell_type": "code",
      "source": [
        "import random as r\n",
        "import string as s\n",
        "for i in range(100):\n",
        "  val=\"\".join(r.sample(s.ascii_letters,r.randint(6,8)))\n",
        "  print(val)"
      ],
      "metadata": {
        "colab": {
          "base_uri": "https://localhost:8080/"
        },
        "id": "w-BdxE0wG8mp",
        "outputId": "402ab011-baf3-475c-96d1-5777a61126da"
      },
      "execution_count": 40,
      "outputs": [
        {
          "output_type": "stream",
          "name": "stdout",
          "text": [
            "qSfIay\n",
            "dlzSncky\n",
            "IWwvSD\n",
            "JiLnVsR\n",
            "mHBseEY\n",
            "hwLONpK\n",
            "AVXaTEvs\n",
            "vUmocl\n",
            "OqAVtBR\n",
            "pjbIUnim\n",
            "xIMbaRu\n",
            "FOkmiI\n",
            "uIhrCvl\n",
            "bKmGsx\n",
            "qdFhIm\n",
            "fYoPUV\n",
            "Sgciyj\n",
            "QdOlzqGL\n",
            "aIvUBMKw\n",
            "QHOLjhlI\n",
            "xGbXvp\n",
            "LRTqniQ\n",
            "VJcpBDkL\n",
            "sTCNtmbO\n",
            "jeEfDVu\n",
            "GFyikRup\n",
            "OIXUSnAr\n",
            "jAPSulH\n",
            "VaGXNM\n",
            "jxlqDi\n",
            "hTpAPUQ\n",
            "ERSBUP\n",
            "NeJGvIQb\n",
            "Egujkmr\n",
            "GcBQbR\n",
            "ZthmyR\n",
            "KcyqUv\n",
            "qGjLgk\n",
            "wEytspI\n",
            "CxBNzyor\n",
            "QHtqol\n",
            "oXNJZYw\n",
            "zvyheko\n",
            "PzgirHG\n",
            "ucMJwBR\n",
            "JZfhUpNm\n",
            "mdFcpva\n",
            "IeENkqFU\n",
            "rPGHwAkd\n",
            "LHGfZl\n",
            "KvPMJF\n",
            "DFmPiuJ\n",
            "BUbCvJ\n",
            "WMekXyp\n",
            "VerIQlHE\n",
            "CrkKJyXE\n",
            "yepQZM\n",
            "kzqmVhUn\n",
            "HpBctSi\n",
            "hyWOCr\n",
            "JsfYnWlo\n",
            "XCxYgSR\n",
            "QbSRpYN\n",
            "pTfbNrLZ\n",
            "gyEreMN\n",
            "ufBwGszd\n",
            "LNSIaYfg\n",
            "kNtlyxv\n",
            "cPyOIVK\n",
            "lOqRVrU\n",
            "OHqYGeIP\n",
            "eEwpIguZ\n",
            "hOMuTXBw\n",
            "SugXHi\n",
            "BydmaXU\n",
            "qfRLXz\n",
            "Sbijkt\n",
            "EZjTOed\n",
            "Yfomat\n",
            "kgFOZv\n",
            "aeCSKs\n",
            "lcuTbWe\n",
            "mvhUrP\n",
            "kXphjFSV\n",
            "oCHzWhNb\n",
            "TtDncm\n",
            "sgAaWh\n",
            "CbgfGxq\n",
            "MyYWQk\n",
            "CSfRgFu\n",
            "ZnTQxqkw\n",
            "NvelEqa\n",
            "sfMXWhK\n",
            "mNdXiyIk\n",
            "xvbuqB\n",
            "oasQWUOh\n",
            "koLKOt\n",
            "XjyKEf\n",
            "gPmbhJ\n",
            "KBhJoM\n"
          ]
        }
      ]
    },
    {
      "cell_type": "markdown",
      "source": [
        "Q.4.(ii) WAP to print all prime numbers between 600 and 800."
      ],
      "metadata": {
        "id": "GDSjmzg0Vwep"
      }
    },
    {
      "cell_type": "code",
      "source": [
        "print(\"Prime numbers between 600 and 800:\")\n",
        "for num in range(600,801):\n",
        "  for i in range(2,int(num//2+1)):\n",
        "    if (num%i)==0:\n",
        "        break\n",
        "  else:\n",
        "        print(num)"
      ],
      "metadata": {
        "colab": {
          "base_uri": "https://localhost:8080/"
        },
        "id": "fJj2OLxXvvrT",
        "outputId": "7a1481f1-d103-491d-dec6-5810f040a374"
      },
      "execution_count": 41,
      "outputs": [
        {
          "output_type": "stream",
          "name": "stdout",
          "text": [
            "Prime numbers between 600 and 800:\n",
            "601\n",
            "607\n",
            "613\n",
            "617\n",
            "619\n",
            "631\n",
            "641\n",
            "643\n",
            "647\n",
            "653\n",
            "659\n",
            "661\n",
            "673\n",
            "677\n",
            "683\n",
            "691\n",
            "701\n",
            "709\n",
            "719\n",
            "727\n",
            "733\n",
            "739\n",
            "743\n",
            "751\n",
            "757\n",
            "761\n",
            "769\n",
            "773\n",
            "787\n",
            "797\n"
          ]
        }
      ]
    },
    {
      "cell_type": "markdown",
      "source": [
        "Q.4.(iii) WAP to print all numbers between 100 and 1000 that are divisible by 7 and 9."
      ],
      "metadata": {
        "id": "-BmvpajRVjNN"
      }
    },
    {
      "cell_type": "code",
      "source": [
        "for num in range(100,1001):\n",
        "  if num%7==0 and num%9==0:\n",
        "    print(num)"
      ],
      "metadata": {
        "colab": {
          "base_uri": "https://localhost:8080/"
        },
        "id": "Stc3wUiYM5iR",
        "outputId": "b6bb9f73-a34a-41e1-e7bf-59e65c1aea0a"
      },
      "execution_count": 42,
      "outputs": [
        {
          "output_type": "stream",
          "name": "stdout",
          "text": [
            "126\n",
            "189\n",
            "252\n",
            "315\n",
            "378\n",
            "441\n",
            "504\n",
            "567\n",
            "630\n",
            "693\n",
            "756\n",
            "819\n",
            "882\n",
            "945\n"
          ]
        }
      ]
    },
    {
      "cell_type": "markdown",
      "source": [
        "Q5. WAP to create two lists of 10 random numbers between 10 and 30; Find -\n",
        "\n",
        "*   Common numbers in the two lists\n",
        "*   Unique numbers in both the list\n",
        "*   Minimum in both the list\n",
        "*  Maximum in both the list\n",
        "*   Sum of both the lists\n",
        "\n",
        "\n",
        "\n",
        "\n",
        "\n",
        "\n",
        "\n"
      ],
      "metadata": {
        "id": "mkqKw1QfPYng"
      }
    },
    {
      "cell_type": "code",
      "source": [
        "L1=[]\n",
        "L2=[]\n",
        "for i in range(11):\n",
        "  num=r.randint(10,30)\n",
        "  n=r.randint(10,30)\n",
        "  L1.append(num)\n",
        "  L2.append(n)\n",
        "print(L1)\n",
        "print(L2)"
      ],
      "metadata": {
        "colab": {
          "base_uri": "https://localhost:8080/"
        },
        "id": "4LnswM-HPSvG",
        "outputId": "72a8aeab-b75c-4604-82dc-e97b874bb254"
      },
      "execution_count": 43,
      "outputs": [
        {
          "output_type": "stream",
          "name": "stdout",
          "text": [
            "[22, 20, 19, 21, 29, 24, 11, 17, 10, 10, 28]\n",
            "[26, 12, 26, 15, 14, 27, 10, 18, 13, 29, 18]\n"
          ]
        }
      ]
    },
    {
      "cell_type": "markdown",
      "source": [
        "Q6. WAP to create a list of 100 random numbers between 100 and 900. Count and print the:\n",
        "*    (i) All odd numbers\n",
        "*(ii) All even numbers\n",
        "*(iii) All prime numbers\n"
      ],
      "metadata": {
        "id": "Sw0KP6dRYFCm"
      }
    },
    {
      "cell_type": "code",
      "source": [
        "import random as r\n",
        "l=[]\n",
        "l1=[]\n",
        "l2=[]\n",
        "l3=[]\n",
        "\n",
        "for i in range(0,101):\n",
        "  n=r.randint(100,900)\n",
        "  l.append(n)\n",
        "\n",
        "for i in range(0,101):\n",
        "   if i%2 !=0:\n",
        "     l1.append(i)\n",
        "\n",
        "for i in range(0,101):\n",
        "   if i%2 ==0:\n",
        "     l2.append(i)\n",
        "\n",
        "for i in range(2,n//2+1):\n",
        "  if n%i !=0:\n",
        "    l3.append(i)\n",
        "\n",
        "print(\"List of 100 random numbers between 100 and 900 : \",l)\n",
        "print(\"All odd numbers : \",l1)\n",
        "print(\"All even numbers : \",l2)\n",
        "print(\"All prime numbers : \",l3)"
      ],
      "metadata": {
        "colab": {
          "base_uri": "https://localhost:8080/"
        },
        "id": "kf8AQYJyYNdJ",
        "outputId": "00be0eb1-6be0-4cb3-b9ab-3ccaec202676"
      },
      "execution_count": 44,
      "outputs": [
        {
          "output_type": "stream",
          "name": "stdout",
          "text": [
            "List of 100 random numbers between 100 and 900 :  [667, 521, 694, 398, 699, 726, 666, 465, 440, 700, 170, 627, 858, 608, 858, 569, 242, 247, 420, 647, 648, 597, 189, 805, 664, 450, 334, 305, 689, 562, 692, 440, 351, 609, 265, 124, 697, 518, 117, 422, 877, 235, 324, 398, 185, 854, 106, 168, 720, 561, 703, 211, 520, 445, 443, 172, 104, 407, 716, 172, 681, 146, 794, 741, 288, 892, 686, 273, 536, 192, 435, 108, 287, 896, 733, 214, 489, 724, 741, 280, 519, 564, 460, 299, 648, 622, 224, 574, 459, 416, 162, 594, 651, 184, 897, 268, 395, 694, 719, 856, 670]\n",
            "All odd numbers :  [1, 3, 5, 7, 9, 11, 13, 15, 17, 19, 21, 23, 25, 27, 29, 31, 33, 35, 37, 39, 41, 43, 45, 47, 49, 51, 53, 55, 57, 59, 61, 63, 65, 67, 69, 71, 73, 75, 77, 79, 81, 83, 85, 87, 89, 91, 93, 95, 97, 99]\n",
            "All even numbers :  [0, 2, 4, 6, 8, 10, 12, 14, 16, 18, 20, 22, 24, 26, 28, 30, 32, 34, 36, 38, 40, 42, 44, 46, 48, 50, 52, 54, 56, 58, 60, 62, 64, 66, 68, 70, 72, 74, 76, 78, 80, 82, 84, 86, 88, 90, 92, 94, 96, 98, 100]\n",
            "All prime numbers :  [3, 4, 6, 7, 8, 9, 11, 12, 13, 14, 15, 16, 17, 18, 19, 20, 21, 22, 23, 24, 25, 26, 27, 28, 29, 30, 31, 32, 33, 34, 35, 36, 37, 38, 39, 40, 41, 42, 43, 44, 45, 46, 47, 48, 49, 50, 51, 52, 53, 54, 55, 56, 57, 58, 59, 60, 61, 62, 63, 64, 65, 66, 68, 69, 70, 71, 72, 73, 74, 75, 76, 77, 78, 79, 80, 81, 82, 83, 84, 85, 86, 87, 88, 89, 90, 91, 92, 93, 94, 95, 96, 97, 98, 99, 100, 101, 102, 103, 104, 105, 106, 107, 108, 109, 110, 111, 112, 113, 114, 115, 116, 117, 118, 119, 120, 121, 122, 123, 124, 125, 126, 127, 128, 129, 130, 131, 132, 133, 135, 136, 137, 138, 139, 140, 141, 142, 143, 144, 145, 146, 147, 148, 149, 150, 151, 152, 153, 154, 155, 156, 157, 158, 159, 160, 161, 162, 163, 164, 165, 166, 167, 168, 169, 170, 171, 172, 173, 174, 175, 176, 177, 178, 179, 180, 181, 182, 183, 184, 185, 186, 187, 188, 189, 190, 191, 192, 193, 194, 195, 196, 197, 198, 199, 200, 201, 202, 203, 204, 205, 206, 207, 208, 209, 210, 211, 212, 213, 214, 215, 216, 217, 218, 219, 220, 221, 222, 223, 224, 225, 226, 227, 228, 229, 230, 231, 232, 233, 234, 235, 236, 237, 238, 239, 240, 241, 242, 243, 244, 245, 246, 247, 248, 249, 250, 251, 252, 253, 254, 255, 256, 257, 258, 259, 260, 261, 262, 263, 264, 265, 266, 267, 268, 269, 270, 271, 272, 273, 274, 275, 276, 277, 278, 279, 280, 281, 282, 283, 284, 285, 286, 287, 288, 289, 290, 291, 292, 293, 294, 295, 296, 297, 298, 299, 300, 301, 302, 303, 304, 305, 306, 307, 308, 309, 310, 311, 312, 313, 314, 315, 316, 317, 318, 319, 320, 321, 322, 323, 324, 325, 326, 327, 328, 329, 330, 331, 332, 333, 334]\n"
          ]
        }
      ]
    },
    {
      "cell_type": "code",
      "source": [
        "print(l1)"
      ],
      "metadata": {
        "colab": {
          "base_uri": "https://localhost:8080/"
        },
        "id": "A_o8OghM5R7A",
        "outputId": "e239f58b-b95b-4232-b606-975eb60e4307"
      },
      "execution_count": 45,
      "outputs": [
        {
          "output_type": "stream",
          "name": "stdout",
          "text": [
            "[1, 3, 5, 7, 9, 11, 13, 15, 17, 19, 21, 23, 25, 27, 29, 31, 33, 35, 37, 39, 41, 43, 45, 47, 49, 51, 53, 55, 57, 59, 61, 63, 65, 67, 69, 71, 73, 75, 77, 79, 81, 83, 85, 87, 89, 91, 93, 95, 97, 99]\n"
          ]
        }
      ]
    },
    {
      "cell_type": "markdown",
      "source": [
        "Q7. D is a dictionary defined as D={1:\"One\",2:\"Two\",3:\"Three\",4:\"Four\", 5:\"Five\"}.\n",
        " WAP to read all the keys and values from dictionary and write to the file in the given below format.\n",
        "\n",
        "*  Key1, Value1\n",
        "*   Key2, Value2\n",
        "*  Key3, Value3\n",
        "\n"
      ],
      "metadata": {
        "id": "3PWW1ibntUos"
      }
    },
    {
      "cell_type": "code",
      "source": [
        "D = {1: \"One\", 2: \"Two\", 3: \"Three\", 4: \"Four\", 5: \"Five\"}\n",
        "\n",
        "# Open a file in write mode\n",
        "with open(\"output.txt\", \"w\") as file:\n",
        "    # Iterate through the dictionary\n",
        "    for key, value in D.items():\n",
        "        # Write key-value pairs to the file\n",
        "        file.write(f\"{key}, {value}\\n\")\n",
        "# Read from file\n",
        "with open(\"output.txt\", \"r\") as file:\n",
        "    for line in file:\n",
        "        # Split the line into key and value\n",
        "        key, value = line.strip().split(\", \")\n",
        "        print(f\"Key: {key}, Value: {value}\")"
      ],
      "metadata": {
        "colab": {
          "base_uri": "https://localhost:8080/"
        },
        "id": "wGvnjbsItNpT",
        "outputId": "9813413d-0921-43f5-a33b-ab96ff26e372"
      },
      "execution_count": 46,
      "outputs": [
        {
          "output_type": "stream",
          "name": "stdout",
          "text": [
            "Key: 1, Value: One\n",
            "Key: 2, Value: Two\n",
            "Key: 3, Value: Three\n",
            "Key: 4, Value: Four\n",
            "Key: 5, Value: Five\n"
          ]
        }
      ]
    },
    {
      "cell_type": "markdown",
      "source": [
        "Q8. L is a list defined as L={\"One\",\"Two\",\"Three\",\"Four\",\"Five\"}.\n",
        "* WAP to count the length of reach element from a list and write to the file in the given below format:\n",
        "--->One, 3\n",
        "--->Two, 3\n",
        "--->Four, 4"
      ],
      "metadata": {
        "id": "1Cje_XQMU5TO"
      }
    },
    {
      "cell_type": "code",
      "source": [
        "L=[\"One\",\"Two\",\"Three\",\"Four\",\"Five\"]\n",
        "for i in L:\n",
        "  print(\"--> \",i,\" , \",len(i))"
      ],
      "metadata": {
        "colab": {
          "base_uri": "https://localhost:8080/"
        },
        "id": "Pq_ZlSHwWr6T",
        "outputId": "73e440cd-0b60-4c97-da08-9c404104a769"
      },
      "execution_count": 47,
      "outputs": [
        {
          "output_type": "stream",
          "name": "stdout",
          "text": [
            "-->  One  ,  3\n",
            "-->  Two  ,  3\n",
            "-->  Three  ,  5\n",
            "-->  Four  ,  4\n",
            "-->  Five  ,  4\n"
          ]
        }
      ]
    },
    {
      "cell_type": "markdown",
      "source": [
        "Q11. WAP to calculate the time taken by a program."
      ],
      "metadata": {
        "id": "egoMgGWkJOxz"
      }
    },
    {
      "cell_type": "code",
      "source": [
        "import time\n",
        "start_time=time.time()\n",
        "def add():\n",
        "  num1=121\n",
        "  num2=576\n",
        "  sum=num1+num2\n",
        "  return sum\n",
        "end_time = time.time()\n",
        "elapsed_time = end_time - start_time\n",
        "print(f\"Time taken by the program: {elapsed_time} seconds\")\n",
        "print(start_time)"
      ],
      "metadata": {
        "colab": {
          "base_uri": "https://localhost:8080/"
        },
        "id": "veJ-O-6z-JyZ",
        "outputId": "594c9bd1-abf9-4a8f-9ce2-0ea69a984854"
      },
      "execution_count": 48,
      "outputs": [
        {
          "output_type": "stream",
          "name": "stdout",
          "text": [
            "Time taken by the program: 0.0001728534698486328 seconds\n",
            "1720337650.2720292\n"
          ]
        }
      ]
    },
    {
      "cell_type": "markdown",
      "source": [
        "#**Challenge Question**"
      ],
      "metadata": {
        "id": "HOv-3HLT7axV"
      }
    },
    {
      "cell_type": "code",
      "source": [
        "# Write a python program to sort the list of heterogeneous data.\n",
        "L = [\"Ram\", \"1\", \"Shyam\", \"2\", \"Aman\", \"3\"] #All the data should be of same type(i.e. string in this case) in order to  sort it.\n",
        "print(\"Before sorting :\",L)\n",
        "L.sort()\n",
        "print(\"After sorting : \",L)"
      ],
      "metadata": {
        "colab": {
          "base_uri": "https://localhost:8080/"
        },
        "id": "p1UC7Y0Ssw5y",
        "outputId": "8b3f6753-c054-4478-8555-ceeeee4a48b2"
      },
      "execution_count": 49,
      "outputs": [
        {
          "output_type": "stream",
          "name": "stdout",
          "text": [
            "Before sorting : ['Ram', '1', 'Shyam', '2', 'Aman', '3']\n",
            "After sorting :  ['1', '2', '3', 'Aman', 'Ram', 'Shyam']\n"
          ]
        }
      ]
    }
  ]
}